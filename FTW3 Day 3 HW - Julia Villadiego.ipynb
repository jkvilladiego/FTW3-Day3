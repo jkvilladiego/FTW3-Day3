{
 "cells": [
  {
   "cell_type": "code",
   "execution_count": 1,
   "metadata": {},
   "outputs": [
    {
     "name": "stdout",
     "output_type": "stream",
     "text": [
      "Input palindrome to be tested: civic\n",
      "Yes\n"
     ]
    }
   ],
   "source": [
    "#Palindrome checker\n",
    "\n",
    "def isPalindrome(x):\n",
    "    x = str(x)\n",
    "    if x == x[::-1]:\n",
    "        y = True\n",
    "    else:\n",
    "        y = False\n",
    "    return y\n",
    "\n",
    "Message = input(\"Input palindrome to be tested: \")\n",
    "\n",
    "if isPalindrome(Message) == True:\n",
    "    print(\"Yes\")\n",
    "else:\n",
    "    print(\"No\")"
   ]
  },
  {
   "cell_type": "code",
   "execution_count": 5,
   "metadata": {},
   "outputs": [
    {
     "name": "stdout",
     "output_type": "stream",
     "text": [
      "Input number to be tested: 79\n",
      "Yes\n"
     ]
    }
   ],
   "source": [
    "#Prime Number checker\n",
    "\n",
    "def isPrime(x):\n",
    "    for i in range(2,x):\n",
    "        if x%i == 0:\n",
    "            prime = False\n",
    "            break\n",
    "        else:\n",
    "            prime = True\n",
    "    return prime\n",
    "\n",
    "Message2 = input(\"Input number to be tested: \")\n",
    "\n",
    "if isPrime(int(Message2)) == True:\n",
    "    print(\"Yes\")\n",
    "else:\n",
    "    print(\"No\")"
   ]
  },
  {
   "cell_type": "code",
   "execution_count": 8,
   "metadata": {},
   "outputs": [
    {
     "name": "stdout",
     "output_type": "stream",
     "text": [
      "Sum of squares = 338350\n",
      "Square of sums= 25502500\n",
      "Difference= 25164150\n"
     ]
    }
   ],
   "source": [
    "# Project Euler Problem 6- Sum Square Difference\n",
    "\n",
    "# The sum of the squares of the first ten natural numbers is,\n",
    "\n",
    "# 1^2 + 2^2 + ... + 10^2 = 385\n",
    "# The square of the sum of the first ten natural numbers is,\n",
    "\n",
    "# (1 + 2 + ... + 10)^2 = 55^2 = 3025\n",
    "# Hence the difference between the sum of the squares of the first ten natural numbers and \n",
    "#the square of the sum is 3025 − 385 = 2640.\n",
    "\n",
    "# Find the difference between the sum of the squares of the first one hundred natural numbers and the square of the sum.\n",
    "\n",
    "\n",
    "# Sum of the squares of the first 100 natural numbers\n",
    "\n",
    "sumSquare = 0\n",
    "\n",
    "sums = 0\n",
    "\n",
    "for i in range(1,101):\n",
    "    sumSquare += i*i\n",
    "    sums += i \n",
    "    \n",
    "squareSum = sums * sums\n",
    "\n",
    "print('Sum of squares = ' + str(sumSquare))\n",
    "print('Square of sums= ' + str(squareSum))\n",
    "print('Difference= ' + str(squareSum - sumSquare))\n",
    "\n",
    "\n",
    "# Square of the sum of the first 100 naturalnumbers"
   ]
  },
  {
   "cell_type": "code",
   "execution_count": 1,
   "metadata": {},
   "outputs": [
    {
     "name": "stdout",
     "output_type": "stream",
     "text": [
      "a= 200, b= 375, c= 425\n",
      "Product is: 31875000\n"
     ]
    }
   ],
   "source": [
    "# Project Euler Problem 9- Special Pythagorean Triplet\n",
    "\n",
    "# A Pythagorean triplet is a set of three natural numbers, a < b < c, for which,\n",
    "\n",
    "# a^2 + b^2 = c^2\n",
    "# For example, 3^2 + 4^2 = 9 + 16 = 25 = 5^2.\n",
    "\n",
    "# There exists exactly one Pythagorean triplet for which a + b + c = 1000.\n",
    "# Find the product abc.\n",
    "\n",
    "for a in range(1, 1000):\n",
    "    for b in range(a, 1000):\n",
    "        for c in range(b, 1000): \n",
    "            if (a+b+c == 1000):\n",
    "                if (a*a + b*b == c*c):\n",
    "                    print('a= ' + str(a) + ', b= ' + str(b) + ', c= ' + str(c))\n",
    "                    print('Product is: ' + str(a*b*c))\n",
    "                    exit()"
   ]
  },
  {
   "cell_type": "code",
   "execution_count": null,
   "metadata": {},
   "outputs": [],
   "source": []
  }
 ],
 "metadata": {
  "kernelspec": {
   "display_name": "Python 3",
   "language": "python",
   "name": "python3"
  },
  "language_info": {
   "codemirror_mode": {
    "name": "ipython",
    "version": 3
   },
   "file_extension": ".py",
   "mimetype": "text/x-python",
   "name": "python",
   "nbconvert_exporter": "python",
   "pygments_lexer": "ipython3",
   "version": "3.7.4"
  }
 },
 "nbformat": 4,
 "nbformat_minor": 2
}
